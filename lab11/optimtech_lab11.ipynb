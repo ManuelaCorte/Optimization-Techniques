{
 "cells": [
  {
   "cell_type": "markdown",
   "metadata": {
    "id": "8Vp0B6slOJhi"
   },
   "source": [
    "# Lab. 11: Integer Linear programming and Dinamic Programming\n",
    "\n",
    "## Introduction\n",
    "\n",
    "#### <u>In this lab, we will see Integer Linear programming and Dynamic programming (DP).</u>"
   ]
  },
  {
   "cell_type": "code",
   "execution_count": null,
   "metadata": {},
   "outputs": [],
   "source": [
    "import math\n",
    "import time\n",
    "from dataclasses import dataclass\n",
    "from pprint import pformat, pprint\n",
    "from typing import Optional\n",
    "\n",
    "import matplotlib.pyplot as plt\n",
    "import networkx as nx\n",
    "import numpy as np\n",
    "import pyscipopt\n",
    "from numpy.typing import NDArray\n",
    "from pyscipopt import SCIP_EVENTTYPE, Eventhdlr, Model, quicksum"
   ]
  },
  {
   "cell_type": "code",
   "execution_count": null,
   "metadata": {
    "cellView": "form",
    "id": "77x74Nr5OFy1"
   },
   "outputs": [],
   "source": [
    "from typing import Any\n",
    "\n",
    "\n",
    "class LPstatEventhdlr(Eventhdlr):  # type: ignore\n",
    "    \"\"\"PySCIPOpt Event handler to collect data on LP events.\"\"\"\n",
    "\n",
    "    transvars = {}\n",
    "\n",
    "    def collectNodeInfo(self, firstlp: bool = True):\n",
    "        objval = self.model.getSolObjVal(None)\n",
    "\n",
    "        LPsol = {}\n",
    "        if self.transvars == {}:\n",
    "            self.transvars = self.model.getVars(transformed=True)\n",
    "        for var in self.transvars:\n",
    "            LPsol[var.name] = self.model.getSolVal(None, var)\n",
    "\n",
    "        node = self.model.getCurrentNode()\n",
    "        if node.getNumber() != 1:\n",
    "            parentnode = node.getParent()\n",
    "            parent = parentnode.getNumber()\n",
    "        else:\n",
    "            parent = 1\n",
    "        depth = node.getDepth()\n",
    "        age = self.model.getNNodes()\n",
    "        condition = math.log10(self.model.getCondition())\n",
    "        iters = self.model.lpiGetIterations()\n",
    "        pb = self.model.getPrimalbound()\n",
    "        if pb >= self.model.infinity():\n",
    "            pb = None\n",
    "\n",
    "        nodedict = {\n",
    "            \"number\": node.getNumber(),\n",
    "            \"LPsol\": LPsol,\n",
    "            \"objval\": objval,\n",
    "            \"parent\": parent,\n",
    "            \"age\": age,\n",
    "            \"depth\": depth,\n",
    "            \"first\": firstlp,\n",
    "            \"condition\": condition,\n",
    "            \"iterations\": iters,\n",
    "            \"rows\": self.model.getNLPRows(),\n",
    "            \"primalbound\": pb,\n",
    "            \"dualbound\": self.model.getDualbound(),\n",
    "            \"time\": self.model.getSolvingTime(),\n",
    "        }\n",
    "\n",
    "        self.nodelist.append(nodedict)\n",
    "\n",
    "    def eventexec(self, event: Any) -> dict[Any, Any]:\n",
    "        if event.getType() == SCIP_EVENTTYPE.FIRSTLPSOLVED:\n",
    "            self.collectNodeInfo(firstlp=True)\n",
    "        elif event.getType() == SCIP_EVENTTYPE.LPSOLVED:\n",
    "            self.collectNodeInfo(firstlp=False)\n",
    "        else:\n",
    "            print(\"unexpected event:\" + str(event))\n",
    "        return {}\n",
    "\n",
    "    def eventinit(self):\n",
    "        self.model.catchEvent(SCIP_EVENTTYPE.LPEVENT, self)\n",
    "\n",
    "\n",
    "def convertSolToDict(sol: Any) -> dict[str, float]:\n",
    "    ssol = str(sol).replace(\"'\", \"\").replace(\"t_\", \"\")\n",
    "    items = ssol[1:-1].split(\", \")\n",
    "    res: dict[str, float] = {}\n",
    "    for item in items:\n",
    "        k = str(item.split(\":\")[0])\n",
    "        v = float(item.split(\":\")[1])\n",
    "        res[k] = v\n",
    "    return res\n",
    "\n",
    "\n",
    "def solve_model(model: Eventhdlr) -> tuple[dict[str, float], float, list[tuple[dict[str, float], float]]]:  # type: ignore\n",
    "    model.setPresolve(pyscipopt.SCIP_PARAMSETTING.OFF)\n",
    "    model.setHeuristics(pyscipopt.SCIP_PARAMSETTING.OFF)\n",
    "    model.disablePropagation()\n",
    "    nodelist = []\n",
    "    eventhdlr = LPstatEventhdlr()\n",
    "    eventhdlr.nodelist = nodelist\n",
    "    model.includeEventhdlr(\n",
    "        eventhdlr, \"LPstat\", \"generate LP statistics after every LP event\"\n",
    "    )\n",
    "    model.optimize()\n",
    "    frontier_history = []\n",
    "    for nd in nodelist:\n",
    "        frontier_history.append((convertSolToDict(nd[\"LPsol\"]), nd[\"objval\"]))\n",
    "    best_sol = model.getBestSol()\n",
    "    best_val = model.getObjVal()\n",
    "    return convertSolToDict(best_sol), best_val, frontier_history"
   ]
  },
  {
   "cell_type": "markdown",
   "metadata": {
    "id": "wqgmYvMdbVgH"
   },
   "source": [
    "## Exercises\n",
    "\n",
    "For the Integer Linear Programming, you will proceed as in the previous lab, writing some models and solving the problem. For Dynamic Programming, we will ask you to solve the knapsack problem with DP."
   ]
  },
  {
   "cell_type": "markdown",
   "metadata": {
    "id": "8h6hRTplbbq6"
   },
   "source": [
    "### Example exercise"
   ]
  },
  {
   "cell_type": "markdown",
   "metadata": {
    "id": "vf8CaX_vbvva"
   },
   "source": [
    "Slack form:\n",
    "\n",
    "minimize  $2x_1 + x_2 − 2x_3$\n",
    "\n",
    "subject to\n",
    "\n",
    "> $0.7x_1 + 0.5x_2 +x_3 ≥ 1.8$\n",
    "\n",
    "> $x_i ∈ [0,1]\\ ∀ i$"
   ]
  },
  {
   "cell_type": "code",
   "execution_count": null,
   "metadata": {
    "id": "X3yzk1iOQkNB"
   },
   "outputs": [],
   "source": [
    "model = Model(\"\")\n",
    "\n",
    "# create three variables for x1, x2 and x3\n",
    "x = {f\"x_{i+1}\": model.addVar(vtype=\"i\", name=f\"x_{i+1}\", lb=0, ub=1) for i in range(3)}\n",
    "\n",
    "# array for coefficient in constraint\n",
    "A = [0.7, 0.5, 1]\n",
    "\n",
    "# quick sum is used for creating summing the variables times their coefficients:\n",
    "# Ax >= b where A = [0.7, 0.5, 1], x = [x1, x2, x3], b = [1.8]\n",
    "model.addCons(quicksum(A[i] * x[f\"x_{i+1}\"] for i in range(3)) >= 1.8)\n",
    "\n",
    "# set the objective minimize c'x where c' indicates the array c = [2, 1, -2] transposed\n",
    "c = [2, 1, -2]\n",
    "model.setObjective(quicksum(c[i] * x[f\"x_{i+1}\"] for i in range(3)), \"minimize\")\n",
    "\n",
    "best_sol, best_val, partial_frontier_history = solve_model(model)\n",
    "\n",
    "print(\"Best solution\", best_sol)\n",
    "print(\"Best value\", best_val)\n",
    "print(\"\\n---Partial frontier history---\\n\")\n",
    "for hist in partial_frontier_history:\n",
    "    print(\"solution:\", hist[0], \"\\t\\tvalue:\", hist[1])"
   ]
  },
  {
   "cell_type": "markdown",
   "metadata": {
    "id": "kYUQTxa9btOG"
   },
   "source": [
    "### Exercise 1/3: The N-queens Problem | ILP"
   ]
  },
  {
   "cell_type": "markdown",
   "metadata": {
    "id": "Ls_gggc7b2yT"
   },
   "source": [
    "\n",
    "The N queens puzzle is the problem of placing N chess queens on an $N×N (𝑁≥4)$ chessboard so that no two queens threaten each other; thus, a solution requires that no two queens share the same row, column, or diagonal. Try different values of $𝑁$ and shows how the problem complexity increases.\n",
    "\n",
    "---\n",
    "\n",
    "#### **HINT:**\n",
    "\n",
    "*Maximize the number of the queen placed in the chessboard, subject to the constraint of no threatening*\n",
    "\n",
    "||&nbsp; &nbsp; A&nbsp; &nbsp;|&nbsp; &nbsp; B&nbsp; &nbsp;|&nbsp; &nbsp; C&nbsp; &nbsp;|&nbsp; &nbsp; D&nbsp; &nbsp;|\n",
    "|-|-|-|-|-|\n",
    "|**1**|$ x_{1,1} $|$ x_{1,2} $|$ x_{1,3} $|$ x_{1,4} $|\n",
    "|**2**|$ x_{2,1} $|$ x_{2,2} $|$ x_{2,3} $|$ x_{2,4} $|\n",
    "|**3**|$ x_{3,1} $|$ x_{3,2} $|$ x_{3,3} $|$ x_{3,4} $|\n",
    "|**4**|$ x_{4,1} $|$ x_{4,2} $|$ x_{4,3} $|$ x_{4,4} $|\n",
    "\n",
    ">N = queens number\n",
    "\n",
    "maximize $\\Sigma_{i=1}^N \\Sigma_{j=1}^N x_{i,j}$\\\n",
    "subject to\n",
    ">$\\Sigma_{j=1}^N x_{1,j} = 1$ at most one queen in row 1\\\n",
    ">$\\Sigma_{j=1}^N x_{2,j} = 1$ at most one queen in row 2\\\n",
    ">$\\Sigma_{j=1}^N x_{3,j} = 1$ at most one queen in row 3\\\n",
    ">$\\Sigma_{j=1}^N x_{4,j} = 1$ at most one queen in row 4\n",
    "\n",
    ">$\\Sigma_{i=1}^N x_{i,1} = 1$ at most one queen in column 1 (A)\\\n",
    ">$\\Sigma_{i=1}^N x_{i,2} = 1$ at most one queen in column 2 (B)\\\n",
    ">$\\Sigma_{i=1}^N x_{i,3} = 1$ at most one queen in column 3 (C)\\\n",
    ">$\\Sigma_{i=1}^N x_{i,4} = 1$ at most one queen in column 4 (D)\n",
    "\n",
    ">$\\Sigma_{j=1}^{N-2} x_{j+2, j} <= 1$ at most one queen in diagonal A3 to B4\\\n",
    ">$\\Sigma_{j=1}^{N-1} x_{j+1, j} <= 1$ at most one queen in diagonal A2 to C4\n",
    "\n",
    ">$\\Sigma_{j=1}^{N} x_{j, j} <= 1$ at most one queen in diagonal A1 to D4\\\n",
    ">$\\Sigma_{j=1}^{N-1} x_{j, j+1} <= 1$ at most one queen in diagonal B1 to D3\\\n",
    ">$\\Sigma_{j=1}^{N-2} x_{j, j+2} <= 1$ at most one queen in diagonal C1 to D2\n",
    "\n",
    ">$\\Sigma_{j=1}^{N-2} x_{j, N-1-j}$ at most one queen in diagonal A2 to B1\\\n",
    ">$\\Sigma_{j=1}^{N-1} x_{j, N-j}$ at most one queen in diagonal A3 to C1\\\n",
    ">$\\Sigma_{j=1}^{N} x_{j, N+1-j}$ at most one queen in diagonal A4 to D1\n",
    "\n",
    ">$\\Sigma_{j=2}^{N} x_{j, N+2-j}$ at most one queen in diagonal B4 to D2\\\n",
    ">$\\Sigma_{j=3}^{N} x_{j, N+2-j}$ at most one queen in diagonal C4 to D3\n"
   ]
  },
  {
   "cell_type": "code",
   "execution_count": null,
   "metadata": {
    "id": "SwaVjLpIQoWj"
   },
   "outputs": [],
   "source": [
    "def get_NQueens_model(N: int) -> Model:  # type: ignore\n",
    "    model = Model(\"\")\n",
    "    v = {\n",
    "        f\"x_{i}{j}\": model.addVar(vtype=\"i\", name=f\"x_{i}{j}\", lb=0, ub=1)\n",
    "        for i in range(1, N + 1)\n",
    "        for j in range(1, N + 1)\n",
    "    }\n",
    "\n",
    "    # constraint 1: each row has at most one queen\n",
    "    for i in range(1, N + 1):\n",
    "        model.addCons(quicksum(v[f\"x_{i}{j}\"] for j in range(1, N + 1)) <= 1)\n",
    "\n",
    "    # constraint 2: each column has at most one queen\n",
    "    for j in range(1, N + 1):\n",
    "        model.addCons(quicksum(v[f\"x_{i}{j}\"] for i in range(1, N + 1)) <= 1)\n",
    "\n",
    "    # constraint 3: each diagonal has at most one queen\n",
    "    # left to right diagonals (i-j = const)\n",
    "    for k in range(1 - N, N):\n",
    "        model.addCons(\n",
    "            quicksum(\n",
    "                v[f\"x_{i}{j}\"]\n",
    "                for i in range(1, N + 1)\n",
    "                for j in range(1, N + 1)\n",
    "                if i - j == k\n",
    "            )\n",
    "            <= 1\n",
    "        )\n",
    "\n",
    "    # right to left diagonals (i+j = const)\n",
    "    for k in range(2, 2 * N - 1):\n",
    "        model.addCons(\n",
    "            quicksum(\n",
    "                v[f\"x_{i}{j}\"]\n",
    "                for i in range(1, N + 1)\n",
    "                for j in range(1, N + 1)\n",
    "                if i + j == k\n",
    "            )\n",
    "            <= 1\n",
    "        )\n",
    "\n",
    "    model.setObjective(\n",
    "        quicksum(v[f\"x_{i}{j}\"] for i in range(1, N + 1) for j in range(1, N + 1)),\n",
    "        \"maximize\",\n",
    "    )\n",
    "\n",
    "    return model"
   ]
  },
  {
   "cell_type": "code",
   "execution_count": null,
   "metadata": {
    "colab": {
     "base_uri": "https://localhost:8080/"
    },
    "id": "xJtGjRQeb6KY",
    "outputId": "63e3e071-4c5e-4774-c8c5-3f74b908f2f0"
   },
   "outputs": [],
   "source": [
    "n_queens = 10\n",
    "model = get_NQueens_model(n_queens)\n",
    "initial_time = time.time()\n",
    "best_sol, best_val, partial_frontier_history = solve_model(model)\n",
    "print(f\"elapsed time: {time.time() - initial_time}\")\n",
    "\n",
    "print(\"Best solution\", best_sol)\n",
    "print(\"Best value\", best_val)\n",
    "\n",
    "for i in range(1, n_queens + 1):\n",
    "    line = []\n",
    "    for j in range(1, n_queens + 1):\n",
    "        line.append(\"Q\" if best_sol[f\"x_{i}{j}\"] == 1 else \"-\")\n",
    "    print(line)"
   ]
  },
  {
   "cell_type": "markdown",
   "metadata": {
    "id": "j_pyfmMMcJ-E"
   },
   "source": [
    "### Exercise 2/3: Traveling Salesman Problem | ILP"
   ]
  },
  {
   "cell_type": "markdown",
   "metadata": {
    "id": "S38r6-oYcQA2"
   },
   "source": [
    "The goal of the TSP is to find the shortest Hamiltonian cycle (a cycle that visits each node only once) on a graph of N nodes. Solve the ILP problem and visualize a solution.\n",
    "\n",
    "Try to model the problem from this [link](https://phabi.ch/2021/10/08/solving-tsp-with-linear-programming-and-google-or-tools/)\n",
    "\n",
    "### Indices:\n",
    "$i, j \\in I = 1,2,3,....,n$\\\n",
    "$n$ = number of nodes\n",
    "\n",
    "### Decision variables:\n",
    "$x_{i,j}$ = 1 if node j is visited right after node i, 0 otherwise\n",
    "\n",
    "### Auxiliary variables:\n",
    "$u_i$ it enumerate the stops in sequential order, used for the subtour elimination constraint\n",
    "\n",
    "### Parameters:\n",
    "$d_{i,j}$ = distance to reach node j from node i (and viceversa)\n",
    "\n",
    "### Constraints:\n",
    "Leave every point for exactly one successor\\\n",
    "$\\forall i \\in I : \\Sigma_{j} x_{i,j} = 1$\n",
    "\n",
    "Reach every point from exactly one predecessor\\\n",
    "$\\forall j \\in I : \\Sigma_{i} x_{i,j} = 1$\n",
    "\n",
    "\n",
    "*For the following constraints see [2.2. The MTZ Formulation](https://epubs.siam.org/doi/pdf/10.1137/S00361445023685) for a further explanation*\n",
    "\n",
    "Start at the first node\\\n",
    "$u_1 = 1$\n",
    "\n",
    "Since we have $n$ locations, all subsequent $u_i$ must have assigned a value between 2 and $n$\\\n",
    "$\\forall i \\ne 1 : 2 \\le u_i \\le n$\n",
    "\n",
    "The index of every succeeding stop gets assigned an index which is at least 1 larger than the predecessor’s index\\\n",
    "$\\forall i \\ne 1, \\forall j \\ne 1 : u_i - u_j + 1 \\le (n-1)(1-x_{i,j})$\n",
    "\n",
    "### Objective Function:\n",
    "minimize $\\Sigma_{(i,j)\\in(I \\times I)} x_{i,j}d_{i,j}$"
   ]
  },
  {
   "cell_type": "code",
   "execution_count": null,
   "metadata": {
    "id": "6llJtkaBcR8q"
   },
   "outputs": [],
   "source": [
    "# randomly create a distance matrix defining the distance to reach node j from node i\n",
    "# Since our problem is symmetrical, the vaues in the distance matrix are symmetrical with respect to the diagonal\n",
    "\n",
    "\n",
    "def create_distance_matrix(num_nodes: int) -> NDArray[np.float64]:  # type: ignore\n",
    "    distance = np.zeros((num_nodes, num_nodes))\n",
    "    for i in range(num_nodes):\n",
    "        for j in range(i + 1, num_nodes):\n",
    "            rand = np.round(np.random.rand(), 2)\n",
    "            distance[i][j] = rand\n",
    "            distance[j][i] = rand\n",
    "    return distance\n",
    "\n",
    "\n",
    "def get_directed_graph_from_weight_matrix(\n",
    "    matrix: NDArray[np.float64], n_nodes: int\n",
    ") -> nx.DiGraph:\n",
    "    G = nx.DiGraph()\n",
    "    G.add_nodes_from([i for i in range(1, n_nodes + 1)])\n",
    "    for i in range(n_nodes):\n",
    "        for j in range(n_nodes):\n",
    "            if matrix[i][j] > 0:\n",
    "                G.add_edge(i + 1, j + 1, weight=matrix[i][j])\n",
    "    return G\n",
    "\n",
    "\n",
    "def draw_graph(\n",
    "    matrix: NDArray[np.float64],\n",
    "    n_nodes: int,\n",
    "    solution: Optional[dict[str, float]] = None,\n",
    "    simplified: bool = False,\n",
    "):\n",
    "    G = get_directed_graph_from_weight_matrix(matrix, n_nodes)\n",
    "    pos = nx.circular_layout(G)\n",
    "    edge_color = \"k\"\n",
    "    if solution is not None:\n",
    "        edge_color = []\n",
    "        for i in range(n_nodes):\n",
    "            for j in range(n_nodes):\n",
    "                if matrix[i][j] > 0:\n",
    "                    edge_color.append(\n",
    "                        \"red\" if solution[f\"x_{i+1}{j+1}\"] == 1 else \"black\"\n",
    "                    )\n",
    "    nx.draw(\n",
    "        G, pos, with_labels=True, connectionstyle=\"arc3,rad=0.15\", edge_color=edge_color\n",
    "    )\n",
    "    if not simplified:\n",
    "        edge_labels = dict(\n",
    "            (\n",
    "                (u, v),\n",
    "                \"{start}->{end} w:{weight:.2f}\".format(\n",
    "                    start=u, end=v, weight=d[\"weight\"]\n",
    "                ),\n",
    "            )\n",
    "            for u, v, d in G.edges(data=True)\n",
    "        )\n",
    "        nx.draw_networkx_edge_labels(\n",
    "            G, pos, edge_labels=edge_labels, label_pos=0.7, font_size=8\n",
    "        )\n",
    "    plt.show()"
   ]
  },
  {
   "cell_type": "code",
   "execution_count": null,
   "metadata": {
    "id": "FY7ATt1xb8Fp"
   },
   "outputs": [],
   "source": [
    "def get_TSP_model(matrix: NDArray[np.float64], n_nodes: int) -> Model:  # type: ignore\n",
    "    model = Model(\"\")\n",
    "    v = {\n",
    "        f\"x_{i}{j}\": model.addVar(vtype=\"i\", name=f\"x_{i}{j}\", lb=0, ub=1)\n",
    "        for i in range(1, n_nodes + 1)\n",
    "        for j in range(1, n_nodes + 1)\n",
    "    }\n",
    "\n",
    "    # constraint 1: each node has exactly one incoming edge\n",
    "    for j in range(1, n_nodes + 1):\n",
    "        model.addCons(quicksum(v[f\"x_{i}{j}\"] for i in range(1, n_nodes + 1)) == 1)\n",
    "\n",
    "    # constraint 2: each node has exactly one outgoing edge\n",
    "    for i in range(1, n_nodes + 1):\n",
    "        model.addCons(quicksum(v[f\"x_{i}{j}\"] for j in range(1, n_nodes + 1)) == 1)\n",
    "\n",
    "    # constraint 3: subtour elimination\n",
    "    u = {\n",
    "        f\"u_{i}\": model.addVar(vtype=\"i\", name=f\"u_{i}\") for i in range(1, n_nodes + 1)\n",
    "    }\n",
    "    model.addCons(u[\"u_1\"] == 1)\n",
    "    for i in range(2, n_nodes + 1):\n",
    "        model.addCons(2 <= (u[f\"u_{i}\"] <= n_nodes))\n",
    "    for i in range(2, n_nodes + 1):\n",
    "        for j in range(2, n_nodes + 1):\n",
    "            model.addCons(\n",
    "                u[f\"u_{i}\"] - u[f\"u_{j}\"] + 1 <= (n_nodes - 1) * (1 - v[f\"x_{i}{j}\"])\n",
    "            )\n",
    "\n",
    "    model.setObjective(\n",
    "        quicksum(\n",
    "            matrix[i - 1][j - 1] * v[f\"x_{i}{j}\"]\n",
    "            for i in range(1, n_nodes + 1)\n",
    "            for j in range(1, n_nodes + 1)\n",
    "        ),\n",
    "        \"minimize\",\n",
    "    )\n",
    "\n",
    "    return model"
   ]
  },
  {
   "cell_type": "code",
   "execution_count": null,
   "metadata": {
    "colab": {
     "base_uri": "https://localhost:8080/",
     "height": 572
    },
    "id": "yH7icfaDmjN6",
    "outputId": "5f715712-7931-4686-f8ff-14153ad5ed73"
   },
   "outputs": [],
   "source": [
    "n_nodes = 10\n",
    "\n",
    "matrix = create_distance_matrix(n_nodes)\n",
    "\n",
    "model = get_TSP_model(matrix, n_nodes)\n",
    "best_sol, best_val, partial_frontier_history = solve_model(model)\n",
    "\n",
    "print(\"Best solution\", best_sol)\n",
    "print(\"Best value\", best_val)\n",
    "\n",
    "draw_graph(matrix, n_nodes, solution=best_sol, simplified=True)"
   ]
  },
  {
   "cell_type": "markdown",
   "metadata": {
    "id": "1oSVSc8-n8Hj"
   },
   "source": [
    "### Exercise 3/3: Knapsack Problem | DP"
   ]
  },
  {
   "cell_type": "markdown",
   "metadata": {
    "id": "qveVBInun-CI"
   },
   "source": [
    "Solve the Knapsack problem using DP.  You can use the Class from lab 5.\n",
    "\n",
    "Run the solution multiple time, and change the total capacity and the number of objects and show how the number of subproblems changes."
   ]
  },
  {
   "cell_type": "code",
   "execution_count": null,
   "metadata": {
    "id": "-gYy4EMqm50_"
   },
   "outputs": [],
   "source": [
    "@dataclass\n",
    "class Item:\n",
    "    name: str\n",
    "    value: int\n",
    "    volume: int\n",
    "\n",
    "    def __str__(self):\n",
    "        return pformat(self.__dict__, indent=4, sort_dicts=False)\n",
    "\n",
    "\n",
    "class Knapsack_0_1:\n",
    "    def __init__(self, capacity: int, items: list[Item]):\n",
    "        self.items = items\n",
    "        self._BAG_CAPACITY = capacity\n",
    "\n",
    "    def getCapacity(self):\n",
    "        return self._BAG_CAPACITY\n",
    "\n",
    "    def getItemsNumber(self):\n",
    "        return len(self.items)\n",
    "\n",
    "    def getWeightandValue(self, ind: int) -> tuple[int, int]:\n",
    "        item = self.items[ind]\n",
    "        return item.volume, item.value\n",
    "\n",
    "    def _get_value(self, solution: list[int]) -> int:\n",
    "        cur_cap = self._BAG_CAPACITY\n",
    "        cur_val = 0\n",
    "        for i, v in enumerate(solution):\n",
    "            if v == 1:\n",
    "                cur_val += self.items[i].value\n",
    "                cur_cap -= self.items[i].volume\n",
    "            if cur_cap < 0:\n",
    "                return 0\n",
    "        return cur_val\n",
    "\n",
    "    def get_items(self, solution: list[int]) -> list[Item]:\n",
    "        items = []\n",
    "        for i, v in enumerate(solution):\n",
    "            if v == 1:\n",
    "                items.append(self.items[i])\n",
    "        return items\n",
    "\n",
    "    def __call__(self, solution: list[int]) -> int:\n",
    "        value = self._get_value(solution)\n",
    "        return value"
   ]
  },
  {
   "cell_type": "code",
   "execution_count": null,
   "metadata": {
    "id": "YyDl1uyVoGi5"
   },
   "outputs": [],
   "source": [
    "def dp_solution(problem: Knapsack_0_1) -> tuple[list[int], int]:\n",
    "    K = problem.getCapacity()\n",
    "    n = problem.getItemsNumber()\n",
    "    v = np.zeros((K + 1, n + 1))\n",
    "    S = np.zeros((K + 1, n + 1))\n",
    "\n",
    "    for i in range(1, n + 1):\n",
    "        for w in range(1, K + 1):\n",
    "            if problem.items[i - 1].volume <= w:\n",
    "                # decide whether to take the item\n",
    "                v[w][i] = max(\n",
    "                    v[w][i - 1],\n",
    "                    v[w - problem.items[i - 1].volume][i - 1]\n",
    "                    + problem.items[i - 1].value,\n",
    "                )\n",
    "                S[w][i] = 1 if v[w][i] > v[w][i - 1] else 0\n",
    "            else:\n",
    "                # cannot take the item\n",
    "                v[w][i] = v[w][i - 1]\n",
    "                S[w][i] = 0\n",
    "\n",
    "    solution = [0] * n\n",
    "    k = K\n",
    "    for i in range(n, 0, -1):\n",
    "        if S[k][i] == 1:\n",
    "            solution[i - 1] = 1\n",
    "            k -= problem.items[i - 1].volume\n",
    "    return solution, v[K][n]"
   ]
  },
  {
   "cell_type": "code",
   "execution_count": null,
   "metadata": {
    "id": "Ybf-Uz4dogtG"
   },
   "outputs": [],
   "source": [
    "capacity = 10\n",
    "items = [\n",
    "    Item(\"apple\", 1, 2),\n",
    "    Item(\"pear\", 2, 2),\n",
    "    Item(\"banana\", 2, 2),\n",
    "    Item(\"watermelon\", 5, 10),\n",
    "    Item(\"orange\", 3, 2),\n",
    "    Item(\"avocado\", 3, 2),\n",
    "    Item(\"blueberry\", 3, 1),\n",
    "    Item(\"coconut\", 4, 3),\n",
    "    Item(\"cherry\", 2, 1),\n",
    "    Item(\"apricot\", 1, 1),\n",
    "]\n",
    "problem = Knapsack_0_1(capacity, items)\n",
    "sol, value = dp_solution(problem)\n",
    "pprint(problem.get_items(sol))\n",
    "print(\"Value\", value)"
   ]
  },
  {
   "cell_type": "code",
   "execution_count": null,
   "metadata": {
    "id": "yCUPl1FNohoT"
   },
   "outputs": [],
   "source": [
    "# experiment by changing the capacity and items\n",
    "capacity = 15\n",
    "items = [\n",
    "    Item(\"apple\", 1, 2),\n",
    "    Item(\"pear\", 2, 2),\n",
    "    Item(\"banana\", 2, 2),\n",
    "    Item(\"watermelon\", 5, 10),\n",
    "    Item(\"orange\", 3, 2),\n",
    "    Item(\"avocado\", 3, 2),\n",
    "    Item(\"blueberry\", 3, 1),\n",
    "    Item(\"coconut\", 4, 3),\n",
    "    Item(\"cherry\", 2, 1),\n",
    "    Item(\"apricot\", 1, 1),\n",
    "]\n",
    "\n",
    "problem = Knapsack_0_1(capacity, items)\n",
    "sol, value = dp_solution(problem)\n",
    "pprint(problem.get_items(sol))\n",
    "print(\"Value\", value)"
   ]
  }
 ],
 "metadata": {
  "colab": {
   "provenance": []
  },
  "kernelspec": {
   "display_name": "Python 3 (ipykernel)",
   "language": "python",
   "name": "python3"
  },
  "language_info": {
   "codemirror_mode": {
    "name": "ipython",
    "version": 3
   },
   "file_extension": ".py",
   "mimetype": "text/x-python",
   "name": "python",
   "nbconvert_exporter": "python",
   "pygments_lexer": "ipython3",
   "version": "3.10.12"
  }
 },
 "nbformat": 4,
 "nbformat_minor": 1
}
