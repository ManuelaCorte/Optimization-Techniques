{
 "cells": [
  {
   "cell_type": "markdown",
   "metadata": {
    "id": "TeuUKisoZOri"
   },
   "source": [
    "# Lab. 10: Linear Programming\n",
    "\n",
    "## Introduction\n",
    "\n",
    "#### <u>The goal of this lab is to use Linear Programming to solve some problems.</u>"
   ]
  },
  {
   "cell_type": "code",
   "execution_count": null,
   "metadata": {
    "cellView": "form",
    "id": "tQVbNzG2X64u"
   },
   "outputs": [],
   "source": [
    "from typing import Optional\n",
    "\n",
    "import matplotlib.pyplot as plt\n",
    "import numpy as np\n",
    "from numpy.typing import NDArray\n",
    "from scipy.optimize import linprog"
   ]
  },
  {
   "cell_type": "code",
   "execution_count": null,
   "metadata": {},
   "outputs": [],
   "source": [
    "def plot_feasible_region(\n",
    "    c: NDArray[np.float64],\n",
    "    A: NDArray[np.float64],\n",
    "    h: NDArray[np.float64],\n",
    "    bounds: list[tuple[float, float]] = [(0, 1), (0, 1)],\n",
    "    optimal_solution: Optional[NDArray[np.float64]] = None,\n",
    "):\n",
    "    xs: list[NDArray[np.float64]] = []\n",
    "    ys: list[NDArray[np.float64]] = []\n",
    "    _, ax = plt.subplots()\n",
    "    for i in range(A.shape[0]):\n",
    "        x = np.linspace(bounds[0][0], bounds[0][1])\n",
    "        y = (h[i] - A[i, 0] * x) / A[i, 1]\n",
    "        ax.plot(x, y)\n",
    "        xs.append(x)\n",
    "        ys.append(y)\n",
    "    if optimal_solution is not None:\n",
    "        ax.plot(*optimal_solution, \"ro\")\n",
    "    ax.set_xlim(bounds[0][0], bounds[0][1])\n",
    "    ax.set_ylim(bounds[1][0], bounds[1][1])\n",
    "\n",
    "    # find all vertexes of the feasible region\n",
    "    # vertexes = []\n",
    "    # for i in range(len(xs)):\n",
    "    #     for j in range(i + 1, len(xs)):\n",
    "    #         x1, x2 = xs[i], xs[j]\n",
    "    #         y1, y2 = ys[i], ys[j]\n",
    "    #         for k in range(len(x1)):\n",
    "    #             if y1[k] == y2[k]:\n",
    "    #                 vertexes.append([x1[k], y1[k]])\n",
    "\n",
    "    # if optimal_solution is not None:\n",
    "    #     vertexes.append(optimal_solution)\n",
    "\n",
    "    # vertexes = np.array(vertexes)\n",
    "    # vertexes = vertexes[np.all(A @ vertexes.T <= h[:, None], axis=0)]\n",
    "    # vertexes = vertexes[np.all(vertexes >= 0, axis=1)]\n",
    "    # vertexes = vertexes[np.all(vertexes <= 1, axis=1)]\n",
    "\n",
    "    # # plot the feasible region\n",
    "    # ax.fill(*vertexes.T, \"b\", alpha=0.3)\n",
    "\n",
    "    plt.show()"
   ]
  },
  {
   "cell_type": "markdown",
   "metadata": {
    "id": "9pzWWxhTZrlY"
   },
   "source": [
    "## Exercises\n",
    "\n",
    "You will not be asked to implement parts of the linear programmign paradigm, but instead to transform the description of problems into a linear programming problem, first into the *canonical form* and then into the *slack form*, and solve them using the `scipy` [library](https://docs.scipy.org/doc/scipy/reference/generated/scipy.optimize.linprog.html#scipy-optimize-linprog). Moreover, for exercises 1 and 2 plot the solution space and highlight the different components."
   ]
  },
  {
   "cell_type": "markdown",
   "metadata": {
    "id": "0WOmHzE6ZtaK"
   },
   "source": [
    "### Example exercise"
   ]
  },
  {
   "cell_type": "markdown",
   "metadata": {
    "id": "x7s-q-6JcSii"
   },
   "source": [
    "A large factory makes tables and chairs. Each table returns a profit of 200 EUR and each chair a\n",
    "profit of 100 EUR. Each table takes 1 unit of metal and 3 units of wood and each chair takes 2 units\n",
    "of metal and 1 unit of wood. The factory has 600 units of metal and 900 units of wood.\n",
    "\n",
    "Find the number of **chairs** and **tables** the factory needs to produce to **maximize their profit**, constrained to the **resources** it have.\n",
    "\n",
    "---\n",
    "\n",
    "*Canonical form:*\n",
    "\n",
    "maximize  $2x_1 + x_2$\n",
    "\n",
    "subject to\n",
    "\n",
    "> $3x_1 + x_2 ≤ 9$\n",
    "\n",
    "> $x_1 + 2x_2 ≤ 6$\n",
    "\n",
    "> $x_1, x_2 ≥ 0$"
   ]
  },
  {
   "cell_type": "code",
   "execution_count": null,
   "metadata": {
    "colab": {
     "base_uri": "https://localhost:8080/"
    },
    "executionInfo": {
     "elapsed": 404,
     "status": "ok",
     "timestamp": 1715868671385,
     "user": {
      "displayName": "Chiara Camilla Rambaldi Migliore",
      "userId": "14825705546977676123"
     },
     "user_tz": -120
    },
    "id": "Roh7P8mhZmLx",
    "outputId": "ddcab03b-88c8-4f23-f348-0dacba087956"
   },
   "outputs": [],
   "source": [
    "c = np.array([2, 1])\n",
    "A = np.array([[3, 1], [1, 2]])\n",
    "h = np.array([9, 6])\n",
    "linprog(-c, A_ub=A, b_ub=h, bounds=[(0, None), (0, None)], method=\"highs\")"
   ]
  },
  {
   "cell_type": "markdown",
   "metadata": {
    "id": "vFSKQ1YCr2_7"
   },
   "source": [
    "*Slack form:*\n",
    "\n",
    "maximize  $2x_1 + x_2$\n",
    "\n",
    "subject to\n",
    "\n",
    "> $3x_1 + x_2 + s_1 = 9$\n",
    "\n",
    "> $x_1 + 2x_2 + s_2 = 6$\n",
    "\n",
    "> $x_1, x_2, s_1, s_2 ≥ 0$"
   ]
  },
  {
   "cell_type": "code",
   "execution_count": null,
   "metadata": {
    "colab": {
     "base_uri": "https://localhost:8080/"
    },
    "executionInfo": {
     "elapsed": 3,
     "status": "ok",
     "timestamp": 1715868676738,
     "user": {
      "displayName": "Chiara Camilla Rambaldi Migliore",
      "userId": "14825705546977676123"
     },
     "user_tz": -120
    },
    "id": "b87wnoNer2gY",
    "outputId": "578ecb91-2dad-4729-8d30-f03233b71647"
   },
   "outputs": [],
   "source": [
    "c = np.array([-2, -1])\n",
    "A = np.array([[3, 1], [1, 2]])\n",
    "h = np.array([9, 6])\n",
    "print(\n",
    "    linprog(\n",
    "        c,\n",
    "        A_eq=A,\n",
    "        b_eq=h,\n",
    "        bounds=[(0, None), (0, None)],\n",
    "        method=\"highs\",\n",
    "    )\n",
    ")"
   ]
  },
  {
   "cell_type": "code",
   "execution_count": null,
   "metadata": {},
   "outputs": [],
   "source": [
    "feasible_region = np.array([[0, 0], [3, 0], [2.4, 1.8], [0, 3]], dtype=np.float64)\n",
    "\n",
    "plot_feasible_region(c, A, h, [(0, 10), (0, 10)], [2.4, 1.8])"
   ]
  },
  {
   "cell_type": "markdown",
   "metadata": {
    "id": "_Ev5UZ60bvkq"
   },
   "source": [
    "### Exercise 1/3"
   ]
  },
  {
   "cell_type": "markdown",
   "metadata": {
    "id": "T8kG_G1wcVdm"
   },
   "source": [
    "A company makes two products (X and Y) using two machines (A and B). Each unit of X that is produced requires 50 minutes processing time on machine A and 30 minutes processing time on machine B. Each unit of Y that is produced requires 24 minutes processing time on machine A and 33 minutes processing time on machine B.\n",
    "\n",
    "At the start of the current week there are 30 units of X and 90 units of Y in stock. Available processing time on machine A is forecast to be 40 hours and on machine B is forecast to be 35 hours.\n",
    "\n",
    "The demand for X in the current week is forecast to be 75 units and for Y is forecast to be 95 units. Company policy is to maximise the combined sum of the units of X and the units of Y in stock at the end of the week.\n",
    "\n",
    "---\n",
    "\n",
    "#### TODO: transform this problem into its slack form and solve it + visualize the solution space with the different components"
   ]
  },
  {
   "cell_type": "code",
   "execution_count": null,
   "metadata": {},
   "outputs": [],
   "source": [
    "# canonical form\n",
    "c = np.array([1, 1])\n",
    "A = np.array([[50, 24], [30, 33]])\n",
    "b = np.array([2400, 2100])\n",
    "res = linprog(-c, A_ub=A, b_ub=b, bounds=[(45, None), (5, None)], method=\"highs\")\n",
    "print(res)\n",
    "plot_feasible_region(c, A, b, [(45, 80), (0, 30)], res[\"x\"])"
   ]
  },
  {
   "cell_type": "code",
   "execution_count": null,
   "metadata": {},
   "outputs": [],
   "source": [
    "# slack form\n",
    "c = np.array([-1, -1, 0, 0])\n",
    "b = np.array([2400, 2100])\n",
    "A = np.array([[50, 24, 1, 0], [30, 33, 0, 1]])\n",
    "res = linprog(\n",
    "    c,\n",
    "    A_eq=A,\n",
    "    b_eq=b,\n",
    "    bounds=[(45, None), (5, None), (0, None), (0, None)],\n",
    "    method=\"highs\",\n",
    ")\n",
    "print(res)\n",
    "plot_feasible_region(c, A, b, [(45, 80), (0, 30)], res[\"x\"][:2])"
   ]
  },
  {
   "cell_type": "markdown",
   "metadata": {
    "id": "562U2feFb7PV"
   },
   "source": [
    "### Exercise 2/3"
   ]
  },
  {
   "cell_type": "markdown",
   "metadata": {
    "id": "o0KjpiuwcYKG"
   },
   "source": [
    "A factory manufactures chairs and tables, each requiring the use of three operations: Cutting, Assembly, and Finishing. The first operation can be used at most 40 hours; the second at most 42 hours; and the third at most 25 hours. A chair requires 1 hour of cutting, 2 hours of assembly, and 1 hour of finishing; a table needs 2 hours of cutting, 1 hour of assembly, and 1 hour of finishing. If the profit is 20 per unit for a chair and 30 for a table, how many units of each should be manufactured to maximize profit?\n",
    "\n",
    "---\n",
    "\n",
    "#### TODO: transform this problem into its slack form and solve it + visualize the solution space with the different components"
   ]
  },
  {
   "cell_type": "code",
   "execution_count": null,
   "metadata": {},
   "outputs": [],
   "source": [
    "# canonical form\n",
    "c = np.array([20, 30])\n",
    "A = np.array([[1, 2], [2, 1], [1, 1]])\n",
    "h = np.array([40, 42, 25])\n",
    "res = linprog(-c, A_ub=A, b_ub=h, bounds=[(0, None), (0, None)], method=\"highs\")\n",
    "print(res)\n",
    "plot_feasible_region(c, A, h, [(0, 20), (0, 20)], res[\"x\"])"
   ]
  },
  {
   "cell_type": "code",
   "execution_count": null,
   "metadata": {
    "id": "-jMt6mNOb_m5"
   },
   "outputs": [],
   "source": [
    "# slack form\n",
    "c = np.array([-20, -30, 0, 0, 0])\n",
    "b = np.array([40, 42, 25])\n",
    "A = np.array([[1, 2, 1, 0, 0], [2, 1, 0, 1, 0], [1, 1, 0, 0, 1]])\n",
    "res = linprog(\n",
    "    c,\n",
    "    A_eq=A,\n",
    "    b_eq=b,\n",
    "    bounds=[(0, None), (0, None), (0, None), (0, None), (0, None)],\n",
    "    method=\"highs\",\n",
    ")\n",
    "print(res)\n",
    "plot_feasible_region(c, A, b, [(0, 20), (0, 20)], res[\"x\"][:2])"
   ]
  },
  {
   "cell_type": "markdown",
   "metadata": {
    "id": "asKr-Dj8cBh7"
   },
   "source": [
    "### Exercise 3/3"
   ]
  },
  {
   "cell_type": "markdown",
   "metadata": {
    "id": "V9Mnu2-pcbqz"
   },
   "source": [
    "A mutual fund has $ \\\\$ 100,000 $ to be invested over a three year horizon.\n",
    "\n",
    "Three investment options are available:\n",
    "\n",
    "1. **Annuity:**  the fund can  pay a same amount of new capital at the beginning of each of three years and receive a payoff of 130% of **total capital** invested  at the end of the third year. Once the mutual fund decides to invest in this annuity, it has to keep investing in all subsequent  years in the three year horizon.  \n",
    "2. **Bank account:** the fund can deposit any amount  into a bank at the beginning of each year and receive its capital plus 6% interest at the end of that year. In addition, the mutual fund is permitted to borrow no more than \\$20,000 at the beginning of each year and is asked to pay back the amount borrowed plus 6% interest at the end of the year. The mutual fund can choose whether to deposit or borrow at the beginning of each year.  \n",
    "3. **Corporate bond:** At the beginning of the second year, a  corporate bond becomes available.\n",
    "  The fund can buy an amount\n",
    "  that is no more than $ \\\\$ $50,000 of this bond at the beginning of the second year and  at the end of the third year receive a payout of 130% of the amount invested in the bond.  \n",
    "\n",
    "\n",
    "The mutual fund’s objective is to maximize total payout that it owns at the end of the third year.\n",
    "\n",
    "---\n",
    "\n",
    "#### **HINT:**\n",
    "\n",
    "Let  $ x_1 $ be the amount of put in the annuity, $ x_2, x_3, x_4 $ be  bank deposit balances at the beginning of the three years,  and $ x_5 $ be the amount invested  in the corporate bond.\n",
    "\n",
    "When $ x_2, x_3, x_4 $ are negative, it means that  the mutual fund has borrowed from  bank.\n",
    "\n",
    "The table below shows the mutual fund’s decision variables together with the timing protocol described above:\n",
    "\n",
    "||Year 1|Year 2|Year 3|\n",
    "|:-----------------------:|:-----------------------:|:-----------------------:|:-----------------------:|\n",
    "|Annuity|$ x_1 $|$ x_1 $|$ x_1 $|\n",
    "|Bank account|$ x_2 $|$ x_3 $|$ x_4 $|\n",
    "|Corporate bond|0|$ x_5 $|0|\n",
    "\n",
    "---\n",
    "\n",
    "#### **TODO:** formulate this as a linear programming problem try transform this problem into its slack form and solve it\n",
    "\n",
    "#### *We suggest you to try to do it by yourself or in small group in class, but, in case of need, the solution can be found [here](https://tools-techniques.quantecon.org/lp_intro.html#example-2-investment-problem)*"
   ]
  },
  {
   "cell_type": "code",
   "execution_count": null,
   "metadata": {
    "id": "xt4q2oe1cJC0"
   },
   "outputs": [],
   "source": [
    "# slack form\n",
    "c = np.array([3.9, 0, 0, 1.06, 1.3])\n",
    "b = np.array([100000, 0, 0])\n",
    "A = np.array([[1, 1, 0, 0, 0], [1, -1.06, 1, 0, 1], [1, 0, -1.06, 1, 0]])\n",
    "bounds = [(0, None), (-20000, None), (-20000, None), (-20000, None), (0, 50000)]\n",
    "res = linprog(-c, A_eq=A, b_eq=b, bounds=bounds, method=\"highs\")\n",
    "print(res)"
   ]
  }
 ],
 "metadata": {
  "colab": {
   "collapsed_sections": [
    "0WOmHzE6ZtaK",
    "_Ev5UZ60bvkq",
    "562U2feFb7PV",
    "asKr-Dj8cBh7"
   ],
   "provenance": []
  },
  "kernelspec": {
   "display_name": "Python 3",
   "name": "python3"
  },
  "language_info": {
   "codemirror_mode": {
    "name": "ipython",
    "version": 3
   },
   "file_extension": ".py",
   "mimetype": "text/x-python",
   "name": "python",
   "nbconvert_exporter": "python",
   "pygments_lexer": "ipython3",
   "version": "3.10.12"
  }
 },
 "nbformat": 4,
 "nbformat_minor": 0
}
