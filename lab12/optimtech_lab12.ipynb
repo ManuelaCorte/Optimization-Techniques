{
 "cells": [
  {
   "cell_type": "markdown",
   "metadata": {
    "id": "yYejvJknRjtE"
   },
   "source": [
    "# Lab. 12: Robust Optimization\n",
    "\n",
    "## Introduction\n",
    "\n",
    "#### <u>In this lab, we will see some applications of robust optimization, namely a modified version of the Knapsack 0/1 problem, and the portfolio optimization problem.</u>\n",
    "\n",
    "Your job in this lab is to implement the missing functions, and study how different functions lead to different outcomes from both the point of view of the objective value and the probability of violating the constraints of the problem.\n",
    "\n",
    "The examples are taken from https://xiongpengnus.github.io/rsome/ro_rsome, using the RSOME library for robust optimization."
   ]
  },
  {
   "cell_type": "code",
   "execution_count": null,
   "metadata": {
    "cellView": "form",
    "id": "_n1A6kv4Rfwy"
   },
   "outputs": [],
   "source": [
    "from dataclasses import dataclass\n",
    "\n",
    "import matplotlib.pyplot as plt\n",
    "import numpy as np\n",
    "import rsome as rso\n",
    "from rsome import grb_solver as grb\n",
    "from rsome import ro"
   ]
  },
  {
   "cell_type": "markdown",
   "metadata": {
    "id": "UGFYrbZ6T45M"
   },
   "source": [
    "## Exercises"
   ]
  },
  {
   "cell_type": "markdown",
   "metadata": {
    "id": "IiO8U4xlT8T6"
   },
   "source": [
    "### Exercise 1/2: Modified Knapsack 0/1 Problem"
   ]
  },
  {
   "cell_type": "markdown",
   "metadata": {
    "id": "TUFwE8lbUxVk"
   },
   "source": [
    "In this exercise, we will solve the Knapsack problem (seen in the previous labs), slightly modified in order to have uncertainties about the volumes of the items.\n",
    "\n",
    "The uncertainty about the volumes is not the same for all the items. They are defined by  δ , defined as a fraction of the size of the volumes of the items.\n",
    "\n",
    "In this exercise, you are asked to implement the definition of the uncertainty set in order to have both an ellipsoidal uncertainty set and a finite uncertainty set.\n",
    "\n",
    "#### Task\n",
    "Implement different sizes for the ellipsoid and different interval for the finite set and compare the objective values and the probability of violating the constraints with the different setups."
   ]
  },
  {
   "cell_type": "code",
   "execution_count": null,
   "metadata": {
    "cellView": "form",
    "id": "hayOT5DzR5cW"
   },
   "outputs": [],
   "source": [
    "from typing import Any, Callable\n",
    "\n",
    "from numpy.typing import NDArray\n",
    "\n",
    "items = [\n",
    "    {\"name\": \"apple\", \"value\": 1, \"volume\": 2},\n",
    "    {\"name\": \"pear\", \"value\": 2, \"volume\": 2},\n",
    "    {\"name\": \"banana\", \"value\": 2, \"volume\": 2},\n",
    "    {\"name\": \"watermelon\", \"value\": 5, \"volume\": 10},\n",
    "    {\"name\": \"orange\", \"value\": 3, \"volume\": 2},\n",
    "    {\"name\": \"avocado\", \"value\": 3, \"volume\": 2},\n",
    "    {\"name\": \"blueberry\", \"value\": 3, \"volume\": 1},\n",
    "    {\"name\": \"coconut\", \"value\": 4, \"volume\": 3},\n",
    "    {\"name\": \"cherry\", \"value\": 2, \"volume\": 1},\n",
    "    {\"name\": \"apricot\", \"value\": 1, \"volume\": 1},\n",
    "]\n",
    "N = len(items)\n",
    "C = 10\n",
    "\n",
    "c = np.array([i[\"value\"] for i in items]).flatten()  # profit coefficients\n",
    "w = np.array([i[\"volume\"] for i in items]).flatten()  # weight coefficients\n",
    "\n",
    "delta = 0.2 * w  # maximum deviations\n",
    "\n",
    "\n",
    "def robust(\n",
    "    get_uncertainty_set: Callable[[Any, Any], Any], r: int | list[int] | list[float]\n",
    ") -> tuple[int, NDArray[np.float64]]:\n",
    "    \"\"\"\n",
    "    The function robust implements the robust optimization model, given the budget of uncertainty r\n",
    "    \"\"\"\n",
    "\n",
    "    model = ro.Model(\"robust\")\n",
    "    x = model.dvar(N, vtype=\"B\")  # Boolean variable x (0: leave, 1: keep)\n",
    "    z = model.rvar(N)  # Random variable\n",
    "\n",
    "    # Uncertainty set\n",
    "    z_set = get_uncertainty_set(z, r)\n",
    "    # z_set = (abs(z) <= 1, rso.norm(z, 1) <= r)\n",
    "\n",
    "    # Maximize the value of the knapsack (i.e., the dot product between the values and x)\n",
    "    model.max(c @ x)\n",
    "\n",
    "    # Add constraint: the maximum (uncertain) weight is smaller than the budget\n",
    "    # in ellipsoidal uncertainty set, 'M' is 'delta' and 'u' is 'z'\n",
    "    # in finite uncertainty set, p1 = w + z1*delta => z1 = (p1 - w)/delta\n",
    "    model.st(((w + z * delta) @ x <= C).forall(z_set))\n",
    "    # consider the optimization with constraint \"Ax <= b\", here A = w + z*delta\n",
    "\n",
    "    # Solve\n",
    "    model.solve(grb, display=False)\n",
    "\n",
    "    return model.get(), x.get()\n",
    "\n",
    "\n",
    "def sim(x_sol: NDArray[np.float64], zs: NDArray[np.float64]):\n",
    "    \"\"\"\n",
    "    The function sim is for calculating the probability of violation via simulations.\n",
    "        x_sol: solution of the Knapsack problem\n",
    "        zs: random sample of the random variable z\n",
    "    \"\"\"\n",
    "\n",
    "    ws = w + zs * delta  # random samples of uncertain weights\n",
    "\n",
    "    return (ws @ x_sol > C).mean()\n",
    "\n",
    "\n",
    "def ellipsoidal_uncertainty_set(z: Any, r: int) -> tuple[Any]:\n",
    "    \"\"\"\n",
    "    Define an uncertainty set. See the following sources:\n",
    "    - Ellipsoidal: https://xiongpengnus.github.io/rsome/ro_rsome#section2.2\n",
    "    - Finite Uncertainty Set\n",
    "    \"\"\"\n",
    "    z_set = rso.norm(z, 2) <= r  # type: ignore\n",
    "\n",
    "    return z_set\n",
    "\n",
    "\n",
    "def finite_uncertainty_set(z: Any, r: list[int]) -> tuple[Any]:\n",
    "    # p1 = w + z1*delta => z1 = (p1 - w)/delta\n",
    "    z_set = (z <= r[0], z >= r[0]) or (z <= r[1], z >= r[1]) or (z <= r[2], z >= r[2])\n",
    "    return z_set  # type: ignore\n",
    "\n",
    "\n",
    "def finite_uncertainty_set_big(z: Any, r: list[int]) -> tuple[Any]:\n",
    "    z_set = (\n",
    "        (z <= r[0], z >= r[0])\n",
    "        or (z <= r[1], z >= r[1])\n",
    "        or (z <= r[2], z >= r[2])\n",
    "        or (z <= r[3], z >= r[3])\n",
    "        or (z <= r[4], z >= r[4])\n",
    "        or (z <= r[5], z >= r[5])\n",
    "    )\n",
    "    print(z_set)\n",
    "    return z_set  # type: ignore\n",
    "\n",
    "\n",
    "def finite_uncertainty_set_hardcoded(z: Any, r: int) -> tuple[Any]:\n",
    "    z_set = (\n",
    "        (z <= 0, z >= 0)\n",
    "        or (z <= 1, z >= 1)\n",
    "        or (z <= 2, z >= 2)\n",
    "        or (z <= 3, z >= 3)\n",
    "        or (z <= 4, z >= 4)\n",
    "        or (z <= 5, z >= 5)\n",
    "    )\n",
    "    return z_set  # type: ignore"
   ]
  },
  {
   "cell_type": "code",
   "execution_count": null,
   "metadata": {},
   "outputs": [],
   "source": [
    "@dataclass(frozen=True)\n",
    "class Result:\n",
    "    r: int\n",
    "    solution: NDArray[np.float64]\n",
    "    prob_violation: float\n",
    "    objective_value: float"
   ]
  },
  {
   "cell_type": "code",
   "execution_count": null,
   "metadata": {},
   "outputs": [],
   "source": [
    "def plot_knapsack_results(results: list[Result]) -> None:\n",
    "    _, ax = plt.subplots(\n",
    "        1,\n",
    "        1,\n",
    "    )\n",
    "    for res in results:\n",
    "        ax.scatter(res.r, res.prob_violation, color=\"blue\")\n",
    "        ax.annotate(\n",
    "            f\"{res.objective_value:.0f}\",\n",
    "            (res.r, res.prob_violation),\n",
    "            textcoords=\"offset points\",\n",
    "            xytext=(0, 10),\n",
    "            ha=\"center\",\n",
    "        )\n",
    "    ax.set_xlabel(\"r\")\n",
    "    ax.set_ylabel(\"Probability of violation\")\n",
    "    ax.set_ylim(0, 1)\n",
    "    plt.show()"
   ]
  },
  {
   "cell_type": "code",
   "execution_count": null,
   "metadata": {
    "colab": {
     "base_uri": "https://localhost:8080/"
    },
    "id": "jIRcUB3AUla4",
    "outputId": "b79581c9-57ee-415c-c0e3-031b0a187a79"
   },
   "outputs": [],
   "source": [
    "num_samples = 20000\n",
    "rs = np.arange(0, 5, 0.5)\n",
    "results: list[Result] = []\n",
    "for r in rs:\n",
    "    zs = np.random.uniform(-1, 1, (num_samples, N))  # Generate random samples for z\n",
    "    objective_value, solution = robust(ellipsoidal_uncertainty_set, r)\n",
    "    prob_violation = sim(solution, zs)\n",
    "    results.append(Result(r, solution, prob_violation, objective_value))\n",
    "plot_knapsack_results(results)"
   ]
  },
  {
   "cell_type": "code",
   "execution_count": null,
   "metadata": {},
   "outputs": [],
   "source": [
    "# p1 = w + r*delta => z1 = (p1 - w)/delta\n",
    "rs = [\n",
    "    [-5, -4, -3],\n",
    "    [-4, -3, -2],\n",
    "    [-3, -2, -1],\n",
    "    [-2, -1, 0],\n",
    "    [-1, 0, 1],\n",
    "    [0, 1, 2],\n",
    "    [1, 2, 3],\n",
    "    [2, 3, 4],\n",
    "    [3, 4, 5],\n",
    "]\n",
    "for r in rs:\n",
    "    zs = np.random.uniform(-1, 1, (num_samples, N))  # Generate random samples for z\n",
    "    objective_value, solution = robust(finite_uncertainty_set, r)\n",
    "    prob_violation = sim(solution, zs)\n",
    "    print(\"r: \", r)\n",
    "    print(\"Objective value: \", objective_value)\n",
    "    print(\"Probability of violation: \", prob_violation)\n",
    "    print(\"----------------------\")"
   ]
  },
  {
   "cell_type": "code",
   "execution_count": null,
   "metadata": {},
   "outputs": [],
   "source": [
    "# p1 = w + r*delta => z1 = (p1 - w)/delta\n",
    "rs = [\n",
    "    [-1.0, -0.8, -0.6],\n",
    "    [-0.8, -0.6, -0.4],\n",
    "    [-0.6, -0.4, -0.2],\n",
    "    [-0.4, -0.2, 0.0],\n",
    "    [-0.2, 0.0, 0.2],\n",
    "    [0.0, 0.2, 0.4],\n",
    "    [0.2, 0.4, 0.6],\n",
    "    [0.4, 0.6, 0.8],\n",
    "    [0.6, 0.8, 1.0],\n",
    "]\n",
    "for r in rs:\n",
    "    zs = np.random.uniform(-1, 1, (num_samples, N))  # Generate random samples for z\n",
    "    objective_value, solution = robust(finite_uncertainty_set, r)\n",
    "    prob_violation = sim(solution, zs)\n",
    "    print(\"r: \", r)\n",
    "    print(\"Objective value: \", objective_value)\n",
    "    print(\"Probability of violation: \", prob_violation)\n",
    "    print(\"----------------------\")"
   ]
  },
  {
   "cell_type": "code",
   "execution_count": null,
   "metadata": {
    "id": "OtaeyjJKVnk3"
   },
   "outputs": [],
   "source": [
    "num_samples = 20000\n",
    "zs = np.random.uniform(-1, 1, (num_samples, N))  # Generate random samples for z\n",
    "\n",
    "objective_value, solution = robust(finite_uncertainty_set, [0, 0, 0])\n",
    "prob_violation = sim(solution, zs)\n",
    "\n",
    "print(\"Content of the knapsack:\")\n",
    "for i, value in enumerate(solution):\n",
    "    if value:\n",
    "        print(f'\\t{items[i][\"name\"]}')\n",
    "print(f\"Total value: {objective_value}. Probability of violation: {prob_violation}\")"
   ]
  },
  {
   "cell_type": "markdown",
   "metadata": {
    "id": "dxmDzaODT2rr"
   },
   "source": [
    "### Exercise 2/2: Robust Portfolio Optimization"
   ]
  },
  {
   "cell_type": "markdown",
   "metadata": {
    "id": "AY3agwqwU50v"
   },
   "source": [
    "In this problem, we want to build a portfolio (e.g., of stocks), by using robust approaches.\n",
    "\n",
    "To be more specific, in this problem we have a set of fictionary stocks, each of which has different means and deviations for the returns.\n",
    "\n",
    "#### TASK\n",
    "Your job here is to implement a box uncertainty set to robustly optimize the portfolio. Try different values for the box in order to study how the uncertainty affects the objective value of and the number of different stocks chosen."
   ]
  },
  {
   "cell_type": "code",
   "execution_count": null,
   "metadata": {
    "cellView": "form",
    "id": "wtIuHm2oU5Zy"
   },
   "outputs": [],
   "source": [
    "n = 10\n",
    "stocks = {\n",
    "    f\"Company {chr(65+i)}\": {\n",
    "        \"Mean\": np.around(np.random.uniform(0.9, 1.1), 2),\n",
    "        \"Deviation\": np.around(np.random.uniform(0.1, 0.3), 2),\n",
    "    }\n",
    "    for i in range(n)\n",
    "}\n",
    "\n",
    "stocks = {\n",
    "    \"Company A\": {\"Deviation\": 0.17, \"Mean\": 0.97},\n",
    "    \"Company B\": {\"Deviation\": 0.22, \"Mean\": 0.92},\n",
    "    \"Company C\": {\"Deviation\": 0.28, \"Mean\": 0.95},\n",
    "    \"Company D\": {\"Deviation\": 0.22, \"Mean\": 1.04},\n",
    "    \"Company E\": {\"Deviation\": 0.23, \"Mean\": 0.97},\n",
    "    \"Company F\": {\"Deviation\": 0.24, \"Mean\": 1.08},\n",
    "    \"Company G\": {\"Deviation\": 0.27, \"Mean\": 1.05},\n",
    "    \"Company H\": {\"Deviation\": 0.12, \"Mean\": 1.01},\n",
    "    \"Company I\": {\"Deviation\": 0.24, \"Mean\": 1.03},\n",
    "    \"Company J\": {\"Deviation\": 0.29, \"Mean\": 0.95},\n",
    "}\n",
    "\n",
    "\n",
    "def portfolio_optimization(\n",
    "    get_uncertainty_set: Callable[[Any, Any, Any], Any],\n",
    "    lower: int | float,\n",
    "    upper: int | float,\n",
    ") -> tuple[int, NDArray[np.float64]]:\n",
    "    p = np.array([stocks[s][\"Mean\"] for s in stocks])  # mean returns\n",
    "    delta = np.array([stocks[s][\"Deviation\"] for s in stocks])  # deviations of returns\n",
    "\n",
    "    model = ro.Model()\n",
    "    x = model.dvar(n)  # fractions of investment\n",
    "    z = model.rvar(n)  # random variables\n",
    "\n",
    "    z_set = get_uncertainty_set(z, lower, upper)\n",
    "\n",
    "    model.maxmin((p + delta * z) @ x, z_set)  # the max-min objective\n",
    "\n",
    "    model.st(sum(x) == 1)  # type: ignore    # summation of x is one\n",
    "    model.st(x >= 0)  # x is non-negative\n",
    "\n",
    "    model.solve(grb)  # solve the model by Gurobi\n",
    "    return model.get(), x.get()\n",
    "\n",
    "\n",
    "def get_uncertainty_set_po(\n",
    "    z: Any, lower: int | float, upper: int | float\n",
    ") -> tuple[Any]:\n",
    "    \"\"\"\n",
    "    Return a box uncertainty set\n",
    "    (see https://xiongpengnus.github.io/rsome/example_ro_inv).\n",
    "\n",
    "    Try different values for the size of the box.\n",
    "    \"\"\"\n",
    "    z_set = (z <= upper, z >= lower)\n",
    "    return z_set  # type: ignore\n",
    "\n",
    "\n",
    "def get_uncertainty_set_po_norm(\n",
    "    z: Any, lower: int | float, upper: int | float\n",
    ") -> tuple[Any]:\n",
    "    \"\"\"\n",
    "    Return a box uncertainty set\n",
    "    (see https://xiongpengnus.github.io/rsome/example_ro_inv).\n",
    "\n",
    "    Try different values for the size of the box.\n",
    "    \"\"\"\n",
    "    z_set = (\n",
    "        rso.norm(z, np.infty) <= 1,  # type: ignore\n",
    "        rso.norm(z, 1) <= upper,  # type: ignore\n",
    "    )  # type: ignore\n",
    "    return z_set  # type: ignore"
   ]
  },
  {
   "cell_type": "code",
   "execution_count": null,
   "metadata": {},
   "outputs": [],
   "source": [
    "def print_portfolio_results(x_sol: NDArray[np.float64]) -> None:\n",
    "    print(\"Content of the portfolio:\")\n",
    "    for i, value in enumerate(x_sol):\n",
    "        if value != 0:\n",
    "            company = f\"Company {chr(65+i)}\"\n",
    "            print(\n",
    "                f'\\t{company} (Mean {stocks[company][\"Mean\"]}, Deviation {stocks[company][\"Deviation\"]}): {value*100:.2f}%'\n",
    "            )"
   ]
  },
  {
   "cell_type": "code",
   "execution_count": null,
   "metadata": {},
   "outputs": [],
   "source": [
    "def plot_portfolio_results(x_sol: NDArray[np.float64]) -> None:\n",
    "    _, ax = plt.subplots(\n",
    "        1,\n",
    "        1,\n",
    "    )\n",
    "    ax.bar(\n",
    "        [s.split(\" \")[1] for s in stocks], x_sol  # Stock names\n",
    "    )  # Investment fractions\n",
    "    ax.set_xlabel(\"Stocks\")\n",
    "    ax.set_ylabel(\"Investment fractions\")\n",
    "    plt.show()"
   ]
  },
  {
   "cell_type": "code",
   "execution_count": null,
   "metadata": {},
   "outputs": [],
   "source": [
    "obj_val, x_sol = portfolio_optimization(get_uncertainty_set_po, -0.25, 0.25)\n",
    "print(\"Objective value: {0:0.4f}\".format(obj_val))\n",
    "print_portfolio_results(x_sol)\n",
    "plot_portfolio_results(x_sol)"
   ]
  },
  {
   "cell_type": "code",
   "execution_count": null,
   "metadata": {},
   "outputs": [],
   "source": [
    "# positive bounds -> I take the stock with the highest return\n",
    "obj_val, x_sol = portfolio_optimization(get_uncertainty_set_po, 0.8, 1.2)\n",
    "print(\"Objective value: {0:0.4f}\".format(obj_val))\n",
    "print_portfolio_results(x_sol)\n",
    "plot_portfolio_results(x_sol)"
   ]
  },
  {
   "cell_type": "code",
   "execution_count": null,
   "metadata": {
    "colab": {
     "base_uri": "https://localhost:8080/",
     "height": 520
    },
    "id": "chNC1gOGVJxZ",
    "outputId": "eb44f575-fe4b-4cb2-b52c-97007329d41c"
   },
   "outputs": [],
   "source": [
    "# negative bounds -> I take the stock with the lowest deviation (p + delta*z)\n",
    "obj_val, x_sol = portfolio_optimization(get_uncertainty_set_po, -1.2, -0.8)\n",
    "print(\"Objective value: {0:0.4f}\".format(obj_val))\n",
    "print_portfolio_results(x_sol)\n",
    "plot_portfolio_results(x_sol)"
   ]
  },
  {
   "cell_type": "code",
   "execution_count": null,
   "metadata": {
    "id": "9GHrYA6pVbCA"
   },
   "outputs": [],
   "source": [
    "norms = np.arange(0, 2.1, 0.5)\n",
    "for norm in norms:\n",
    "    obj_val, x_sol = portfolio_optimization(get_uncertainty_set_po_norm, 0, norm)\n",
    "    print(\"Norm: \", norm)\n",
    "    print(\"Objective value: {0:0.4f}\".format(obj_val))\n",
    "    print_portfolio_results(x_sol)\n",
    "    plot_portfolio_results(x_sol)"
   ]
  }
 ],
 "metadata": {
  "colab": {
   "collapsed_sections": [
    "yYejvJknRjtE",
    "UGFYrbZ6T45M",
    "IiO8U4xlT8T6",
    "TUFwE8lbUxVk",
    "dxmDzaODT2rr",
    "AY3agwqwU50v"
   ],
   "provenance": []
  },
  "kernelspec": {
   "display_name": "Python 3 (ipykernel)",
   "language": "python",
   "name": "python3"
  },
  "language_info": {
   "codemirror_mode": {
    "name": "ipython",
    "version": 3
   },
   "file_extension": ".py",
   "mimetype": "text/x-python",
   "name": "python",
   "nbconvert_exporter": "python",
   "pygments_lexer": "ipython3",
   "version": "3.10.12"
  }
 },
 "nbformat": 4,
 "nbformat_minor": 1
}
