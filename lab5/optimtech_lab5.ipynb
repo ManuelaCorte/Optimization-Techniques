{
 "cells": [
  {
   "cell_type": "markdown",
   "metadata": {
    "id": "-SlA--0rkVDt"
   },
   "source": [
    "# Lab. 5: Iterated local Search and Simulated Annealing\n",
    "\n",
    "## Introduction\n",
    "\n",
    "#### <u>The goal of this lab is to compare the behavior of Iterated Local search (ILS) and Simulated Annealing on the knapsack 0/1 problem</u>\n",
    "\n",
    "You'll have to implement five methods:\n",
    "\n",
    "- *Iterated Local Search*:\n",
    "  - perturbation(x, k). Try different implementation of the perturbation methods. (similar to the shake method in the previous lab)\n",
    "  - local_search(f, x). Try different local search strategies (FirstImprovement or BestImprovement)\n",
    "- *Simulated Annealing*:\n",
    "  - random_neighbor(x, i). Select a random neighbor for the solution x by doing only a few changes\n",
    "  - acceptance(x, eval_x, xp, eval_xp, T). Return the accepted solution (x or xp) and corresponding fitness.\n",
    "  - update_temperature(T, alpha). Proceed with the update of the temperature parameter.\n",
    "---\n",
    "\n",
    "Getting started: The following cells contain the implementation of the methods that we will use throughout this lab, together with utilities.\n",
    "\n",
    "#### **The Knapsack 0/1 problem** is a combinatorial problem that works as follows.\n",
    "\n",
    "We have a bag with limited capacity L, and we have a set of items  $I=\\{i_1,...,i_N\\}$  Each  $i_j$  has a given volume $w_{ij}$ and a value $v_{ij}$. The goal of the optimization problem is to fill the bag with a combination of items $S$ such that the combination maximizes the total value contained by the bag while complying with the constraint on the capacity.\n",
    "\n",
    "In this version of the knapsack problem we can either discard or carry (at most 1) item. Thus, the search space is $\\{0,1\\}^{|I|}$ .\n",
    "\n",
    "Since this is a maximization problem, we can turn it into a minimization problem by returning the opposite of the value. If a solution is not feasible (i.e., exceeds the maximum volume) the function will return a score of 0 (like an empty bag).\n",
    "\n",
    "\n",
    "Assume\n",
    "$$ N = \\text{number of items} $$\n",
    "$$ X = \\{x_1, x_2, \\dots, x_N\\} = \\text{set of items} $$\n",
    "$$ v_i = \\text{value of item } x_i $$\n",
    "$$ w_i = \\text{weight of item } x_i $$\n",
    "$$ W = \\text{maximum weight the knapsack can hold} $$\n",
    "\n",
    "\n",
    "Then the 0/1 knapsack problem can be formulated as follows:\n",
    "\n",
    "\\begin{equation*}\n",
    "  \\begin{array}{lr}\n",
    "    \\text{maximize }   &S = \\sum_{x_i \\in X} v_i x_i \\\\\n",
    "    \\text{subject to } & \\sum_{x_i \\in X} w_i x_i \\leq W \\\\\n",
    "                       & x_i \\in \\{0, 1\\} \\forall x_i \\in X \\\\\n",
    "  \\end{array}\n",
    "\\end{equation*}\n"
   ]
  },
  {
   "cell_type": "code",
   "execution_count": 1,
   "metadata": {
    "id": "rO9LwdEvl3o9"
   },
   "outputs": [],
   "source": [
    "import random\n",
    "from copy import deepcopy\n",
    "from dataclasses import dataclass\n",
    "from itertools import combinations\n",
    "from pprint import pformat, pprint\n",
    "from typing import Literal\n",
    "\n",
    "from matplotlib import pyplot as plt\n",
    "\n",
    "Binary = Literal[0, 1]"
   ]
  },
  {
   "cell_type": "code",
   "execution_count": 2,
   "metadata": {
    "id": "LWuMpb-lj5ct"
   },
   "outputs": [],
   "source": [
    "@dataclass(frozen=True)\n",
    "class Item:\n",
    "    name: str\n",
    "    value: int\n",
    "    volume: int\n",
    "\n",
    "    def __str__(self) -> str:\n",
    "        return pformat({\"name\": self.name, \"value\": self.value, \"volume\": self.volume})\n",
    "\n",
    "\n",
    "class Knapsack_0_1:\n",
    "\n",
    "    def __init__(self):\n",
    "        self.items = [\n",
    "            Item(\"apple\", 1, 2),\n",
    "            Item(\"pear\", 2, 2),\n",
    "            Item(\"banana\", 2, 2),\n",
    "            Item(\"watermelon\", 5, 10),\n",
    "            Item(\"orange\", 3, 2),\n",
    "            Item(\"avocado\", 3, 2),\n",
    "            Item(\"blueberry\", 3, 1),\n",
    "            Item(\"coconut\", 4, 3),\n",
    "            Item(\"cherry\", 2, 1),\n",
    "            Item(\"apricot\", 1, 1),\n",
    "        ]\n",
    "        self.BAG_CAPACITY = 10\n",
    "        self.history: list[list[int]] = []\n",
    "        self.values: list[int] = []\n",
    "\n",
    "    def _get_value(self, solution: list[int]) -> int:\n",
    "        cur_cap = self.BAG_CAPACITY\n",
    "        cur_val = 0\n",
    "        for i, v in enumerate(solution):\n",
    "            if v == 1:\n",
    "                cur_val += self.items[i].value\n",
    "                cur_cap -= self.items[i].volume\n",
    "            if cur_cap < 0:\n",
    "                return 0\n",
    "        return -cur_val\n",
    "\n",
    "    def trend(self):\n",
    "        plt.figure()\n",
    "        plt.plot(self.values)\n",
    "        plt.show()\n",
    "\n",
    "    def info(self, items_mask: list[int]) -> None:\n",
    "        items = [self.items[i] for i in range(len(items_mask)) if items_mask[i] == 1]\n",
    "        capacity = sum([i.volume for i in items])\n",
    "        quantity = sum([i.value for i in items])\n",
    "        pprint(\n",
    "            {\n",
    "                \"items\": items,\n",
    "                \"max capacity\": self.BAG_CAPACITY,\n",
    "                \"achived capacity\": capacity,\n",
    "                \"quantity\": quantity,\n",
    "            },\n",
    "            sort_dicts=False,\n",
    "        )\n",
    "\n",
    "    def __call__(self, solution: list[int]) -> int:\n",
    "        value = self._get_value(solution)\n",
    "        self.history.append(solution)\n",
    "        self.values.append(value)\n",
    "        return value"
   ]
  },
  {
   "cell_type": "markdown",
   "metadata": {
    "id": "SNVIderwWlmT"
   },
   "source": [
    "## Exercises"
   ]
  },
  {
   "cell_type": "markdown",
   "metadata": {
    "id": "jYZizLPCVnle"
   },
   "source": [
    "### Iterated Local Search\n",
    "**Finish the implementation of the algorithm first**, then answer the question later on."
   ]
  },
  {
   "cell_type": "code",
   "execution_count": 7,
   "metadata": {
    "id": "Hj8TGEwPl5Za"
   },
   "outputs": [],
   "source": [
    "def iteratedLocalSearch(\n",
    "    f: Knapsack_0_1,\n",
    "    x0: list[int],\n",
    "    ls_max: int,\n",
    "    ls_type: Literal[\"first\"] | Literal[\"best\"],\n",
    "):\n",
    "    \"\"\"\n",
    "    Seeks for the minimum of the function by means of the Iterated local search algorithm.\n",
    "\n",
    "    - f: the function to optimize\n",
    "    - x0: the initial point\n",
    "    - ls_max: the max number of local search\n",
    "    \"\"\"\n",
    "\n",
    "    def perturbation(x: list[int], k: int) -> list[int]:\n",
    "        \"\"\"\n",
    "        Implements the perturbation step for the ILS algorithm.\n",
    "\n",
    "        - x: starting point\n",
    "        - k: number of changes to be made\n",
    "\n",
    "        Returns:\n",
    "        - x': the random sampled from the neighborhood\n",
    "        \"\"\"\n",
    "        # create a copy of x\n",
    "        xp = deepcopy(x)\n",
    "\n",
    "        # flip k random bits of xs\n",
    "        indexes = random.sample(range(len(xp)), k)\n",
    "        for i in indexes:\n",
    "            xp[i] = 1 - xp[i]\n",
    "        return xp\n",
    "\n",
    "    def local_search(\n",
    "        f: Knapsack_0_1, x: list[int], type: Literal[\"first\"] | Literal[\"best\"]\n",
    "    ) -> list[int]:\n",
    "        \"\"\"\n",
    "        Implements the local search step (e.g.: BestImprovement) for the ILS algorithm.\n",
    "\n",
    "        - f: function to optimize\n",
    "        - x: starting point\n",
    "\n",
    "        Returns:\n",
    "        - x': local optimum\n",
    "        \"\"\"\n",
    "        xb = deepcopy(x)\n",
    "\n",
    "        # generate all possible combinations that flip k bits\n",
    "        combs = list(combinations(range(len(x)), len(x)))\n",
    "        if type == \"first\":\n",
    "            # perform a first-improvement local search\n",
    "            for indexes in combs:\n",
    "                xs = deepcopy(x)\n",
    "                for i in indexes:\n",
    "                    xs[i] = 1 - xs[i]\n",
    "                if f(xs) < f(xb):\n",
    "                    xb = xs\n",
    "                    break\n",
    "        elif type == \"best\":\n",
    "            # perform a best-improvement local search\n",
    "            for indexes in combs:\n",
    "                xs = deepcopy(x)\n",
    "                for i in indexes:\n",
    "                    xs[i] = 1 - xs[i]\n",
    "                if f(xs) < f(xb):\n",
    "                    xb = xs\n",
    "        else:\n",
    "            raise ValueError(\"type must be 'first' or 'best'\")\n",
    "\n",
    "        return xb\n",
    "\n",
    "    def acceptance_criterion(\n",
    "        f: Knapsack_0_1, x: list[int], xs: list[int], k: int\n",
    "    ) -> tuple[list[int], int]:\n",
    "        if f(xs) < f(x):\n",
    "            x = xs\n",
    "            k = 1\n",
    "        else:\n",
    "            k += 1\n",
    "        return x, k\n",
    "\n",
    "    x = deepcopy(x0)\n",
    "    best = x\n",
    "    bestval = f(x)\n",
    "\n",
    "    i = 0\n",
    "    while i < ls_max:\n",
    "        xp = perturbation(x, i)\n",
    "        xs = local_search(f, xp, ls_type)\n",
    "        x, i = acceptance_criterion(f, x, xs, i)\n",
    "\n",
    "        # Store the best\n",
    "        curval = f(x)\n",
    "        if curval < bestval:\n",
    "            bestval = curval\n",
    "            best = x\n",
    "    return best"
   ]
  },
  {
   "cell_type": "markdown",
   "metadata": {
    "id": "xPiN-sb3V8BB"
   },
   "source": [
    "#### Questions:\n",
    "- how does the starting point influence the search process?\n",
    "- how does the ls_max parameter affect the quality of the result?\n",
    "- how does the perturbation of the solutions affect:\n",
    "    - quality of the search?\n",
    "    - velocity of the search?\n"
   ]
  },
  {
   "cell_type": "code",
   "execution_count": 14,
   "metadata": {
    "id": "_ah0CpANWe7q"
   },
   "outputs": [
    {
     "name": "stdout",
     "output_type": "stream",
     "text": [
      "{'items': [Item(name='pear', value=2, volume=2),\n",
      "           Item(name='avocado', value=3, volume=2),\n",
      "           Item(name='blueberry', value=3, volume=1),\n",
      "           Item(name='coconut', value=4, volume=3),\n",
      "           Item(name='cherry', value=2, volume=1),\n",
      "           Item(name='apricot', value=1, volume=1)],\n",
      " 'max capacity': 10,\n",
      " 'achived capacity': 10,\n",
      " 'quantity': 15}\n"
     ]
    },
    {
     "data": {
      "image/png": "[encoded data removed]",
      "text/plain": [
       "<Figure size 640x480 with 1 Axes>"
      ]
     },
     "metadata": {},
     "output_type": "display_data"
    }
   ],
   "source": [
    "func = Knapsack_0_1()\n",
    "solution = iteratedLocalSearch(func, [0] * len(func.items), 10, \"first\")\n",
    "func.info(solution)\n",
    "func.trend()"
   ]
  },
  {
   "cell_type": "markdown",
   "metadata": {
    "id": "0a1bbTnYWDwp"
   },
   "source": [
    "### Simulated Annealing\n",
    "**Finish the implementation of the algorithm first**, then answer the question later on."
   ]
  },
  {
   "cell_type": "code",
   "execution_count": 26,
   "metadata": {
    "id": "wibgqXfkQDUC"
   },
   "outputs": [],
   "source": [
    "from math import e\n",
    "\n",
    "\n",
    "def simulatedAnnealing(\n",
    "    f: Knapsack_0_1, x0: list[int], iter: int, T: float, k: int, alpha: float\n",
    "):\n",
    "    \"\"\"\n",
    "    Seeks for the minimum of the function by means of the Simulated Annealing algorithm.\n",
    "\n",
    "    - f: the function to optimize\n",
    "    - x0: the initial point\n",
    "    - iter: number of temperature update\n",
    "    - T: Initial high temperature\n",
    "    - k: Number of iterations at fixed temperature\n",
    "    - alpha: cooling scheduling parameter\n",
    "    \"\"\"\n",
    "\n",
    "    def random_neighbor(x: list[int], T: int) -> list[int]:\n",
    "        \"\"\"\n",
    "        Generates a random neighbor for the solution x.\n",
    "\n",
    "        - x: starting point\n",
    "        - T: the current temperature\n",
    "\n",
    "        Returns:\n",
    "        - x': the random sample from the neighborhood\n",
    "        \"\"\"\n",
    "        # create a copy of x\n",
    "        xp = deepcopy(x)\n",
    "\n",
    "        # we want to flip bits proportionally to the temperature resizing between 0 and the length of x\n",
    "        # higher the temperature, higher the number of bits to flip\n",
    "        # TODO: check if this is the correct way to do it\n",
    "        n = int(T * len(x) / 100)\n",
    "\n",
    "        # flip n random bits of xs\n",
    "        indexes = random.sample(range(len(xp)), n)\n",
    "        for i in indexes:\n",
    "            xp[i] = 1 - xp[i]\n",
    "        return xp\n",
    "\n",
    "    def acceptance(\n",
    "        x: list[int], eval_x: int, xp: list[int], eval_xp: int, T: float\n",
    "    ) -> tuple[list[int], int]:\n",
    "        \"\"\"\n",
    "        Returns the solution and fitness accepted between x and xp.\n",
    "\n",
    "        - x: current solution\n",
    "        - eval_x: eval of solution x\n",
    "        - xp: new solution\n",
    "        - eval_xp: eval of solution xp\n",
    "        - T: temperature\n",
    "\n",
    "        Returns:\n",
    "        - x: new current solution\n",
    "        - eval_x: eval of new solution x\n",
    "        \"\"\"\n",
    "        if eval_xp < eval_x:\n",
    "            return xp, eval_xp\n",
    "        else:\n",
    "            p = random.random()\n",
    "            if p < e ** (-(eval_xp - eval_x) / T):\n",
    "                return xp, eval_xp\n",
    "        return x, eval_x\n",
    "\n",
    "    def update_temperature(T: float, alpha: float) -> float:\n",
    "        \"\"\"\n",
    "        Updates the temperature T.\n",
    "\n",
    "        - T: temperature\n",
    "        - alpha: cooling scheduling parameter\n",
    "\n",
    "        Returns:\n",
    "        - T: updated temperature\n",
    "        \"\"\"\n",
    "        return T * alpha\n",
    "\n",
    "    x = deepcopy(x0)\n",
    "    eval_x = f(x)\n",
    "    for _ in range(iter):\n",
    "        for _ in range(k):\n",
    "            eval_x = f(x)\n",
    "            xp = random_neighbor(x, T)\n",
    "            eval_xp = f(xp)\n",
    "            x, eval_x = acceptance(x, eval_x, xp, eval_xp, T)\n",
    "        T = update_temperature(T, alpha)  # type: ignore\n",
    "\n",
    "    return x, eval_x"
   ]
  },
  {
   "cell_type": "markdown",
   "metadata": {
    "id": "b53DGm6DWL_-"
   },
   "source": [
    "#### Questions:\n",
    "- how does the starting point influence the search process?\n",
    "- how does the initial temperature affect the quality of the result?\n",
    "- how does the selection of the neighborhood affect:\n",
    "    - quality of the search?\n",
    "    - velocity of the search?\n",
    "- How does the acceptance policy influence the search?\n",
    "- How does the update of the temparture affect the search?\n"
   ]
  },
  {
   "cell_type": "code",
   "execution_count": 28,
   "metadata": {
    "id": "8p53ADH6WPR4"
   },
   "outputs": [
    {
     "name": "stdout",
     "output_type": "stream",
     "text": [
      "{'items': [Item(name='banana', value=2, volume=2),\n",
      "           Item(name='avocado', value=3, volume=2),\n",
      "           Item(name='coconut', value=4, volume=3),\n",
      "           Item(name='cherry', value=2, volume=1)],\n",
      " 'max capacity': 10,\n",
      " 'achived capacity': 8,\n",
      " 'quantity': 11}\n"
     ]
    },
    {
     "data": {
      "image/png": "[encoded data removed]",
      "text/plain": [
       "<Figure size 640x480 with 1 Axes>"
      ]
     },
     "metadata": {},
     "output_type": "display_data"
    }
   ],
   "source": [
    "func = Knapsack_0_1()\n",
    "x, eval_x = simulatedAnnealing(func, [0] * len(func.items), 10, 10, 50, 0.1)\n",
    "func.info(x)\n",
    "func.trend()"
   ]
  },
  {
   "cell_type": "markdown",
   "metadata": {
    "id": "lO9NYm_lWQ9-"
   },
   "source": [
    "### Final questions:\n",
    "Iterated local search, variable neighbor search, and simulated annealing are very similar optimization algorithms.\n",
    "Considering what was seen in this lab and the previous one, answer these questions:\n",
    " - Is there a \"more efficient\" algorithm?\n",
    " - How do the different parameters affect the search, and do they affect the choice of one algorithm to respect the others?"
   ]
  }
 ],
 "metadata": {
  "colab": {
   "provenance": []
  },
  "kernelspec": {
   "display_name": "Python 3",
   "name": "python3"
  },
  "language_info": {
   "codemirror_mode": {
    "name": "ipython",
    "version": 3
   },
   "file_extension": ".py",
   "mimetype": "text/x-python",
   "name": "python",
   "nbconvert_exporter": "python",
   "pygments_lexer": "ipython3",
   "version": "3.10.12"
  }
 },
 "nbformat": 4,
 "nbformat_minor": 0
}
